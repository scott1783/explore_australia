{
  "nbformat": 4,
  "nbformat_minor": 0,
  "metadata": {
    "colab": {
      "name": "Untitled0.ipynb",
      "version": "0.3.2",
      "provenance": [],
      "include_colab_link": true
    },
    "kernelspec": {
      "name": "python3",
      "display_name": "Python 3"
    }
  },
  "cells": [
    {
      "cell_type": "markdown",
      "metadata": {
        "id": "view-in-github",
        "colab_type": "text"
      },
      "source": [
        "<a href=\"https://colab.research.google.com/github/scott1783/explore_australia/blob/master/Untitled0.ipynb\" target=\"_parent\"><img src=\"https://colab.research.google.com/assets/colab-badge.svg\" alt=\"Open In Colab\"/></a>"
      ]
    },
    {
      "cell_type": "markdown",
      "metadata": {
        "id": "Yjf9CIYrNtdj",
        "colab_type": "text"
      },
      "source": [
        "# **Unearthed Solutions : Explorer Challenge**\n",
        "\n",
        "## 1.0 Get Data\n",
        "\n",
        "Source Link : https://map.sarig.sa.gov.au/\n",
        "\n",
        "Magnetics: Total Magnetic Intensity – LP800 VRTP 1st vertical derivative https://catalog.sarig.sa.gov.au/geonetwork/srv/eng/catalog.search#/metadata/1a797550-8d6b-4ab1-81f2-be6ed15f06d0\n",
        "\n",
        "Gravity: Gravity UC1000 Residual - onshore https://catalog.sarig.sa.gov.au/geonetwork/srv/eng/catalog.search#/metadata/f1c5ab7f-21c8-4ed3-85fa-14f6dba40ca6\n",
        "\n",
        "Solid Geology: Archaean - Early Mesoproterozoic faults: https://catalog.sarig.sa.gov.au/geonetwork/srv/eng/catalog.search#/metadata/8e517d3f-8255-4159-8bcf-3e101622a2c2\n",
        "\n",
        "Solid Geology: Archaean - Early Mesoproterozoic polygons: https://catalog.sarig.sa.gov.au/geonetwork/srv/eng/catalog.search#/metadata/79d50974-a57e-4754-91aa-1f0be6489a8c\n",
        "\n",
        "Copper mines and mineral deposits: https://catalog.sarig.sa.gov.au/geonetwork/srv/eng/catalog.search#/metadata/bb4e6a5e-6eaa-4612-9fe4-733b02531d2a\n",
        "\n",
        "Gold: https://catalog.sarig.sa.gov.au/geonetwork/srv/eng/catalog.search#/metadata/b2417a8b-ec1b-4cfb-bdc8-793e3d31e661\n",
        "\n",
        "Mines : https://catalog.sarig.sa.gov.au/geonetwork/srv/eng/catalog.search#/metadata/c1040c0e-7638-481e-89f0-b7c60248959d\n"
      ]
    },
    {
      "cell_type": "code",
      "metadata": {
        "id": "h0ROq1nDL6We",
        "colab_type": "code",
        "colab": {
          "base_uri": "https://localhost:8080/",
          "height": 129
        },
        "outputId": "fd24de37-5d64-4a6c-ad4e-50ff71df70e9"
      },
      "source": [
        ""
      ],
      "execution_count": 1,
      "outputs": [
        {
          "output_type": "error",
          "ename": "SyntaxError",
          "evalue": "ignored",
          "traceback": [
            "\u001b[0;36m  File \u001b[0;32m\"<ipython-input-1-f682ba8f82be>\"\u001b[0;36m, line \u001b[0;32m1\u001b[0m\n\u001b[0;31m    Unearthed Solutions : Explorer Challenge¶\u001b[0m\n\u001b[0m                      ^\u001b[0m\n\u001b[0;31mSyntaxError\u001b[0m\u001b[0;31m:\u001b[0m invalid syntax\n"
          ]
        }
      ]
    }
  ]
}