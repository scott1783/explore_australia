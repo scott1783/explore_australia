{
  "nbformat": 4,
  "nbformat_minor": 0,
  "metadata": {
    "colab": {
      "name": "Explorer.ipynb",
      "version": "0.3.2",
      "provenance": [],
      "collapsed_sections": [],
      "include_colab_link": true
    },
    "kernelspec": {
      "name": "python3",
      "display_name": "Python 3"
    }
  },
  "cells": [
    {
      "cell_type": "markdown",
      "metadata": {
        "id": "view-in-github",
        "colab_type": "text"
      },
      "source": [
        "<a href=\"https://colab.research.google.com/github/scott1783/explore_australia/blob/master/Explorer.ipynb\" target=\"_parent\"><img src=\"https://colab.research.google.com/assets/colab-badge.svg\" alt=\"Open In Colab\"/></a>"
      ]
    },
    {
      "cell_type": "markdown",
      "metadata": {
        "id": "Yjf9CIYrNtdj",
        "colab_type": "text"
      },
      "source": [
        "# **Unearthed Solutions : Explorer Challenge**\n",
        "\n",
        "## 1.0 Get Data\n",
        "\n",
        "Source Link : https://map.sarig.sa.gov.au/\n",
        "\n",
        "Magnetics: Total Magnetic Intensity – LP800 VRTP 1st vertical derivative https://catalog.sarig.sa.gov.au/geonetwork/srv/eng/catalog.search#/metadata/1a797550-8d6b-4ab1-81f2-be6ed15f06d0\n",
        "\n",
        "Gravity: Gravity UC1000 Residual - onshore https://catalog.sarig.sa.gov.au/geonetwork/srv/eng/catalog.search#/metadata/f1c5ab7f-21c8-4ed3-85fa-14f6dba40ca6\n",
        "\n",
        "Solid Geology: Archaean - Early Mesoproterozoic faults: https://catalog.sarig.sa.gov.au/geonetwork/srv/eng/catalog.search#/metadata/8e517d3f-8255-4159-8bcf-3e101622a2c2\n",
        "\n",
        "Solid Geology: Archaean - Early Mesoproterozoic polygons: https://catalog.sarig.sa.gov.au/geonetwork/srv/eng/catalog.search#/metadata/79d50974-a57e-4754-91aa-1f0be6489a8c\n",
        "\n",
        "Copper mines and mineral deposits: https://catalog.sarig.sa.gov.au/geonetwork/srv/eng/catalog.search#/metadata/bb4e6a5e-6eaa-4612-9fe4-733b02531d2a\n",
        "\n",
        "Gold: https://catalog.sarig.sa.gov.au/geonetwork/srv/eng/catalog.search#/metadata/b2417a8b-ec1b-4cfb-bdc8-793e3d31e661\n",
        "\n",
        "Mines : https://catalog.sarig.sa.gov.au/geonetwork/srv/eng/catalog.search#/metadata/c1040c0e-7638-481e-89f0-b7c60248959d\n"
      ]
    },
    {
      "cell_type": "code",
      "metadata": {
        "id": "h0ROq1nDL6We",
        "colab_type": "code",
        "colab": {}
      },
      "source": [
        "import skimage\n",
        "import numpy as np\n",
        "from skimage.color import rgb2gray\n",
        "import random\n",
        "import matplotlib.pyplot as plt\n",
        "import matplotlib.image as mpimg\n",
        "from matplotlib import rcParams\n",
        "%matplotlib inline\n",
        "\n",
        "# Read and normalize data\n",
        "#grv = skimage.io.imread('F:SAdata/data/interim/g_train.tif')\n",
        "#grv = rgb2gray(grv)\n",
        "#mag = skimage.io.imread('F:SAdata/data/interim/m_train.tif')\n",
        "#mag = rgb2gray(mag)\n",
        "#flt = skimage.io.imread('F:SAdata/data/interim/f_cliptrain.tif')/255\n",
        "#con = skimage.io.imread('F:SAdata/data/interim/c_cliptrain.tif')/255\n",
        "#ore = skimage.io.imread('F:SAdata/data/interim/o_cliptrain.tif')/53\n",
        "\n",
        "#imgG = mpimg.imread('F:SAdata/data/interim/g_train.tif')\n",
        "#imgM = mpimg.imread('F:SAdata/data/interim/m_train.tif')\n",
        "#imgF = mpimg.imread('F:SAdata/data/interim/f_cliptrain.tif')\n",
        "#imgC = mpimg.imread('F:SAdata/data/interim/c_cliptrain.tif')\n",
        "#imgO = mpimg.imread('F:SAdata/data/interim/o_cliptrain.tif')\n",
        "\n",
        "rows = 3200\n",
        "cols = 3968\n",
        "d = 4\n",
        "p = 32"
      ],
      "execution_count": 0,
      "outputs": []
    }
  ]
}